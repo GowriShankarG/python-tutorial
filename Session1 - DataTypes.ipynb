{
  "nbformat": 4,
  "nbformat_minor": 0,
  "metadata": {
    "colab": {
      "provenance": [],
      "include_colab_link": true
    },
    "kernelspec": {
      "name": "python3",
      "display_name": "Python 3"
    },
    "language_info": {
      "name": "python"
    }
  },
  "cells": [
    {
      "cell_type": "markdown",
      "metadata": {
        "id": "view-in-github",
        "colab_type": "text"
      },
      "source": [
        "<a href=\"https://colab.research.google.com/github/GowriShankarG/python-tutorial/blob/master/Session1%20-%20DataTypes.ipynb\" target=\"_parent\"><img src=\"https://colab.research.google.com/assets/colab-badge.svg\" alt=\"Open In Colab\"/></a>"
      ]
    },
    {
      "cell_type": "markdown",
      "source": [
        "\n",
        "Comments in Python can be made by preceding a line with a hashtag #. Everything on that particular line will then not be interpreted as part of the code:\n",
        "\n",
        "\\# This is a comment and will not be interpreted as code\n",
        "\n",
        "\n"
      ],
      "metadata": {
        "id": "LsuFb0uKCov6"
      }
    },
    {
      "cell_type": "code",
      "execution_count": null,
      "metadata": {
        "id": "oiwqnfEeCH7n"
      },
      "outputs": [],
      "source": [
        "# commment"
      ]
    },
    {
      "cell_type": "code",
      "source": [
        "# Integers\n",
        "a = 2\n",
        "b = 239"
      ],
      "metadata": {
        "id": "vRfHeGC9VIN9"
      },
      "execution_count": null,
      "outputs": []
    },
    {
      "cell_type": "code",
      "source": [],
      "metadata": {
        "id": "cMbBGD1tVJTr"
      },
      "execution_count": null,
      "outputs": []
    },
    {
      "cell_type": "code",
      "source": [],
      "metadata": {
        "id": "h02Ruf_CVI_Q"
      },
      "execution_count": null,
      "outputs": []
    }
  ]
}