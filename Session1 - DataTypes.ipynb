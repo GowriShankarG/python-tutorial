{
  "nbformat": 4,
  "nbformat_minor": 0,
  "metadata": {
    "colab": {
      "provenance": [],
      "include_colab_link": true
    },
    "kernelspec": {
      "name": "python3",
      "display_name": "Python 3"
    },
    "language_info": {
      "name": "python"
    }
  },
  "cells": [
    {
      "cell_type": "markdown",
      "metadata": {
        "id": "view-in-github",
        "colab_type": "text"
      },
      "source": [
        "<a href=\"https://colab.research.google.com/github/GowriShankarG/python-tutorial/blob/master/Session1%20-%20DataTypes.ipynb\" target=\"_parent\"><img src=\"https://colab.research.google.com/assets/colab-badge.svg\" alt=\"Open In Colab\"/></a>"
      ]
    },
    {
      "cell_type": "markdown",
      "source": [
        "\n",
        "Comments in Python can be made by preceding a line with a hashtag #. Everything on that particular line will then not be interpreted as part of the code:\n",
        "\n",
        "\\# This is a comment and will not be interpreted as code\n",
        "\n",
        "\n"
      ],
      "metadata": {
        "id": "LsuFb0uKCov6"
      }
    },
    {
      "cell_type": "markdown",
      "source": [
        "# Data Types"
      ],
      "metadata": {
        "id": "XTosUCe9XM3M"
      }
    },
    {
      "cell_type": "code",
      "execution_count": 1,
      "metadata": {
        "id": "oiwqnfEeCH7n"
      },
      "outputs": [],
      "source": [
        "# commment"
      ]
    },
    {
      "cell_type": "code",
      "source": [
        "# Integers (int)\n",
        "a = 2\n",
        "b = 239"
      ],
      "metadata": {
        "id": "vRfHeGC9VIN9"
      },
      "execution_count": 2,
      "outputs": []
    },
    {
      "cell_type": "code",
      "source": [
        "#Floating point numbers (float)\n",
        "c = 2.1\n",
        "d = 239.0"
      ],
      "metadata": {
        "id": "cMbBGD1tVJTr"
      },
      "execution_count": 5,
      "outputs": []
    },
    {
      "cell_type": "code",
      "source": [
        "# Strings (str)\n",
        "\n",
        "e = 'Hello world!'\n",
        "my_text = 'This is my text'\n",
        "\n",
        "# Both \" and ' can be used to denote strings. If the apostrophe character should be part of the string, use \" as outer boundaries\n",
        "#strings are immutable, which means that they can't be changed after creation.\n",
        "'Barack\\'s last name is Obama'\n"
      ],
      "metadata": {
        "colab": {
          "base_uri": "https://localhost:8080/",
          "height": 35
        },
        "id": "h02Ruf_CVI_Q",
        "outputId": "2436e79d-5c71-4b46-8890-e9ee564a688f"
      },
      "execution_count": 6,
      "outputs": [
        {
          "output_type": "execute_result",
          "data": {
            "text/plain": [
              "\"Barack's last name is Obama\""
            ],
            "application/vnd.google.colaboratory.intrinsic+json": {
              "type": "string"
            }
          },
          "metadata": {},
          "execution_count": 6
        }
      ]
    },
    {
      "cell_type": "code",
      "source": [
        "# Boolean (bool)\n",
        "x = True\n",
        "y = False"
      ],
      "metadata": {
        "id": "UUS9HbPdWbYw"
      },
      "execution_count": 7,
      "outputs": []
    },
    {
      "cell_type": "markdown",
      "source": [
        "python does not require you to declare the type of a variable before creating it. This is because Python is a dynamically typed language"
      ],
      "metadata": {
        "id": "2O7HNZqpWsRi"
      }
    },
    {
      "cell_type": "markdown",
      "source": [
        "# Calculations"
      ],
      "metadata": {
        "id": "arOl9_KqXJkd"
      }
    },
    {
      "cell_type": "code",
      "source": [
        "# addition, subtraction, multiplication\n",
        "print(\"Addition ==> 3.1 + 7.4\")\n",
        "3.1 + 7.4"
      ],
      "metadata": {
        "id": "YuJqWEM-WwFr",
        "outputId": "90ef11ce-2389-4012-90c1-0ecc68a1ccb7",
        "colab": {
          "base_uri": "https://localhost:8080/"
        }
      },
      "execution_count": 13,
      "outputs": [
        {
          "output_type": "stream",
          "name": "stdout",
          "text": [
            "Addition ==> 3.1 + 7.4\n"
          ]
        },
        {
          "output_type": "execute_result",
          "data": {
            "text/plain": [
              "10.5"
            ]
          },
          "metadata": {},
          "execution_count": 13
        }
      ]
    },
    {
      "cell_type": "code",
      "source": [
        "print(\"Multiplication  ==> 2 * 4 \")\n",
        "2 * 4"
      ],
      "metadata": {
        "id": "n9RhF3GIXIY3",
        "outputId": "2b23c479-750c-4aa7-a890-01a01a819dfe",
        "colab": {
          "base_uri": "https://localhost:8080/"
        }
      },
      "execution_count": 14,
      "outputs": [
        {
          "output_type": "stream",
          "name": "stdout",
          "text": [
            "Multiplication  ==> 2 * 4 \n"
          ]
        },
        {
          "output_type": "execute_result",
          "data": {
            "text/plain": [
              "8"
            ]
          },
          "metadata": {},
          "execution_count": 14
        }
      ]
    },
    {
      "cell_type": "code",
      "source": [
        "print(\"Division ==> 2 / 5\")\n",
        "2 / 5"
      ],
      "metadata": {
        "id": "ewlJNwx4YHMX",
        "outputId": "a3f02892-4d40-42a3-8b68-c653d73bf911",
        "colab": {
          "base_uri": "https://localhost:8080/"
        }
      },
      "execution_count": 15,
      "outputs": [
        {
          "output_type": "stream",
          "name": "stdout",
          "text": [
            "Division ==> 2 / 5\n"
          ]
        },
        {
          "output_type": "execute_result",
          "data": {
            "text/plain": [
              "0.4"
            ]
          },
          "metadata": {},
          "execution_count": 15
        }
      ]
    }
  ]
}