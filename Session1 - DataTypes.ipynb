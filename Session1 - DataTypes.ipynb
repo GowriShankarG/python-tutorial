{
  "nbformat": 4,
  "nbformat_minor": 0,
  "metadata": {
    "colab": {
      "provenance": [],
      "include_colab_link": true
    },
    "kernelspec": {
      "name": "python3",
      "display_name": "Python 3"
    },
    "language_info": {
      "name": "python"
    }
  },
  "cells": [
    {
      "cell_type": "markdown",
      "metadata": {
        "id": "view-in-github",
        "colab_type": "text"
      },
      "source": [
        "<a href=\"https://colab.research.google.com/github/GowriShankarG/python-tutorial/blob/master/Session1%20-%20DataTypes.ipynb\" target=\"_parent\"><img src=\"https://colab.research.google.com/assets/colab-badge.svg\" alt=\"Open In Colab\"/></a>"
      ]
    },
    {
      "cell_type": "markdown",
      "source": [
        "\n",
        "Comments in Python can be made by preceding a line with a hashtag #. Everything on that particular line will then not be interpreted as part of the code:\n",
        "\n",
        "\\# This is a comment and will not be interpreted as code\n",
        "\n",
        "\n"
      ],
      "metadata": {
        "id": "LsuFb0uKCov6"
      }
    },
    {
      "cell_type": "markdown",
      "source": [
        "# Data Types"
      ],
      "metadata": {
        "id": "XTosUCe9XM3M"
      }
    },
    {
      "cell_type": "code",
      "execution_count": 1,
      "metadata": {
        "id": "oiwqnfEeCH7n"
      },
      "outputs": [],
      "source": [
        "# commment"
      ]
    },
    {
      "cell_type": "code",
      "source": [
        "# Integers (int)\n",
        "a = 2\n",
        "b = 239"
      ],
      "metadata": {
        "id": "vRfHeGC9VIN9"
      },
      "execution_count": 2,
      "outputs": []
    },
    {
      "cell_type": "code",
      "source": [
        "#Floating point numbers (float)\n",
        "c = 2.1\n",
        "d = 239.0"
      ],
      "metadata": {
        "id": "cMbBGD1tVJTr"
      },
      "execution_count": 5,
      "outputs": []
    },
    {
      "cell_type": "code",
      "source": [
        "# Strings (str)\n",
        "\n",
        "e = 'Hello world!'\n",
        "my_text = 'This is my text'\n",
        "\n",
        "# Both \" and ' can be used to denote strings. If the apostrophe character should be part of the string, use \" as outer boundaries\n",
        "#strings are immutable, which means that they can't be changed after creation.\n",
        "'Barack\\'s last name is Obama'\n"
      ],
      "metadata": {
        "colab": {
          "base_uri": "https://localhost:8080/",
          "height": 35
        },
        "id": "h02Ruf_CVI_Q",
        "outputId": "2436e79d-5c71-4b46-8890-e9ee564a688f"
      },
      "execution_count": 6,
      "outputs": [
        {
          "output_type": "execute_result",
          "data": {
            "text/plain": [
              "\"Barack's last name is Obama\""
            ],
            "application/vnd.google.colaboratory.intrinsic+json": {
              "type": "string"
            }
          },
          "metadata": {},
          "execution_count": 6
        }
      ]
    },
    {
      "cell_type": "code",
      "source": [
        "# Boolean (bool)\n",
        "x = True\n",
        "y = False"
      ],
      "metadata": {
        "id": "UUS9HbPdWbYw"
      },
      "execution_count": 7,
      "outputs": []
    },
    {
      "cell_type": "markdown",
      "source": [
        "python does not require you to declare the type of a variable before creating it. This is because Python is a dynamically typed language"
      ],
      "metadata": {
        "id": "2O7HNZqpWsRi"
      }
    },
    {
      "cell_type": "markdown",
      "source": [
        "# Calculations"
      ],
      "metadata": {
        "id": "arOl9_KqXJkd"
      }
    },
    {
      "cell_type": "code",
      "source": [
        "# addition, subtraction, multiplication\n",
        "print(\"Addition ==> 3.1 + 7.4\")\n",
        "3.1 + 7.4"
      ],
      "metadata": {
        "colab": {
          "base_uri": "https://localhost:8080/"
        },
        "id": "YuJqWEM-WwFr",
        "outputId": "90ef11ce-2389-4012-90c1-0ecc68a1ccb7"
      },
      "execution_count": 13,
      "outputs": [
        {
          "output_type": "stream",
          "name": "stdout",
          "text": [
            "Addition ==> 3.1 + 7.4\n"
          ]
        },
        {
          "output_type": "execute_result",
          "data": {
            "text/plain": [
              "10.5"
            ]
          },
          "metadata": {},
          "execution_count": 13
        }
      ]
    },
    {
      "cell_type": "code",
      "source": [
        "print(\"Multiplication  ==> 2 * 4 \")\n",
        "2 * 4"
      ],
      "metadata": {
        "colab": {
          "base_uri": "https://localhost:8080/"
        },
        "id": "n9RhF3GIXIY3",
        "outputId": "2b23c479-750c-4aa7-a890-01a01a819dfe"
      },
      "execution_count": 14,
      "outputs": [
        {
          "output_type": "stream",
          "name": "stdout",
          "text": [
            "Multiplication  ==> 2 * 4 \n"
          ]
        },
        {
          "output_type": "execute_result",
          "data": {
            "text/plain": [
              "8"
            ]
          },
          "metadata": {},
          "execution_count": 14
        }
      ]
    },
    {
      "cell_type": "code",
      "source": [
        "print(\"Division ==> 2 / 5\")\n",
        "2 / 5"
      ],
      "metadata": {
        "colab": {
          "base_uri": "https://localhost:8080/"
        },
        "id": "ewlJNwx4YHMX",
        "outputId": "a3f02892-4d40-42a3-8b68-c653d73bf911"
      },
      "execution_count": 15,
      "outputs": [
        {
          "output_type": "stream",
          "name": "stdout",
          "text": [
            "Division ==> 2 / 5\n"
          ]
        },
        {
          "output_type": "execute_result",
          "data": {
            "text/plain": [
              "0.4"
            ]
          },
          "metadata": {},
          "execution_count": 15
        }
      ]
    },
    {
      "cell_type": "code",
      "source": [
        "# Exponents are denoted by **\n",
        "print(\"Exponents are denoted by **\")\n",
        "2**2"
      ],
      "metadata": {
        "colab": {
          "base_uri": "https://localhost:8080/"
        },
        "id": "B8xNnGFVYTtH",
        "outputId": "7cd9ebf9-1d6b-4452-be92-23754ecb49e2"
      },
      "execution_count": 17,
      "outputs": [
        {
          "output_type": "stream",
          "name": "stdout",
          "text": [
            "Exponents are denoted by **\n"
          ]
        },
        {
          "output_type": "execute_result",
          "data": {
            "text/plain": [
              "8"
            ]
          },
          "metadata": {},
          "execution_count": 17
        }
      ]
    },
    {
      "cell_type": "code",
      "source": [
        "# Floor division is denoted by //. It returns the integer part of a division result\n",
        "20 // 3"
      ],
      "metadata": {
        "colab": {
          "base_uri": "https://localhost:8080/"
        },
        "id": "Onky-5uLYpnb",
        "outputId": "23dd2f02-e6f4-4721-a498-3c13a3994a86"
      },
      "execution_count": 18,
      "outputs": [
        {
          "output_type": "execute_result",
          "data": {
            "text/plain": [
              "3"
            ]
          },
          "metadata": {},
          "execution_count": 18
        }
      ]
    },
    {
      "cell_type": "code",
      "source": [
        "#Modulo is denoted by %. It returns the remainder after a division:\n",
        "20 % 3"
      ],
      "metadata": {
        "id": "rPuIU5RBYwqt"
      },
      "execution_count": null,
      "outputs": []
    },
    {
      "cell_type": "code",
      "source": [
        "# Strings can be added (concatenated) by use of the addition operator +\n",
        "'Bruce' + '  ' + 'Wayne'"
      ],
      "metadata": {
        "colab": {
          "base_uri": "https://localhost:8080/",
          "height": 35
        },
        "id": "-SZ7f9OoY6m-",
        "outputId": "59a403ae-1e58-48f3-8e6d-71d8460c283b"
      },
      "execution_count": 19,
      "outputs": [
        {
          "output_type": "execute_result",
          "data": {
            "text/plain": [
              "'Bruce Wayne'"
            ],
            "application/vnd.google.colaboratory.intrinsic+json": {
              "type": "string"
            }
          },
          "metadata": {},
          "execution_count": 19
        }
      ]
    },
    {
      "cell_type": "code",
      "source": [
        "# Basic usage of f-strings\n",
        "a = 10\n",
        "b = 20\n",
        "print(f'Multiplication: a * b = {a} * {b} = {a*b}')"
      ],
      "metadata": {
        "id": "eBWDukSEZlAB"
      },
      "execution_count": null,
      "outputs": []
    },
    {
      "cell_type": "markdown",
      "source": [
        "# Functions"
      ],
      "metadata": {
        "id": "el2LDJwFZmpf"
      }
    },
    {
      "cell_type": "code",
      "source": [
        "# The len() function returns the length of a sequence, e.g. a string:\n",
        "len('aaa')"
      ],
      "metadata": {
        "id": "DjKVdMfUligI"
      },
      "execution_count": null,
      "outputs": []
    },
    {
      "cell_type": "code",
      "source": [
        "# string functions\n",
        "\n",
        "name = 'Edward Snowden'\n",
        "\n",
        "print(\"===> string.replace()\")\n",
        "# string.replace('old_substring', 'new_substring')\n",
        "print(name.replace('Edward', 'Ed'))\n",
        "\n",
        "# string.endswith('substring_to_test_for') - depending on whether or not the strings ends with the specified substring\n",
        "print(\"\\n ===> string.endswith('substring_to_test_for')\")\n",
        "print(name.endswith('g'))\n",
        "\n",
        "# string.count() - Counts the number of occurences of a substring inside a string:\n",
        "print(\" \\n ===> string.count('substring_to_count')\")\n",
        "print(name.count('d'))"
      ],
      "metadata": {
        "colab": {
          "base_uri": "https://localhost:8080/"
        },
        "id": "SDimVuRuljDc",
        "outputId": "c186084b-3eb9-487d-bcc3-8e472f2e36c9"
      },
      "execution_count": 24,
      "outputs": [
        {
          "output_type": "stream",
          "name": "stdout",
          "text": [
            "string.replace()\n",
            "Ed Snowden\n",
            "\n",
            " string.endswith('substring_to_test_for')\n",
            "False\n",
            " \n",
            " string.count('substring_to_count')\n",
            "3\n"
          ]
        }
      ]
    },
    {
      "cell_type": "code",
      "source": [],
      "metadata": {
        "id": "vK0xk32pli7c"
      },
      "execution_count": null,
      "outputs": []
    },
    {
      "cell_type": "code",
      "source": [],
      "metadata": {
        "id": "nupDVlamli1e"
      },
      "execution_count": null,
      "outputs": []
    }
  ]
}