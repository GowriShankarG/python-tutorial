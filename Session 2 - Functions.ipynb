{
  "cells": [
    {
      "cell_type": "markdown",
      "metadata": {
        "cell_style": "center",
        "id": "nIiDQWOIwdIm"
      },
      "source": [
        "\n",
        "# 3. Functions\n",
        "A **function** is a block of code that is first defined, and thereafter can be called to run as many times as needed. A function might have arguments, some of which can be optional if a default value is specified.\n",
        "\n",
        "A function is called by parentheses: `function_name()`. Arguments are placed inside the parentehes and comma separated if there are more than one.\n",
        "Similar to `f(x, y)` from mathematics.\n",
        "\n",
        "A function can return one or more values to the caller. The values to return are put in the `return` statement. When the code hits a `return` statement the function terminates. If no `return` statement is given, the function will return `None`.\n",
        "\n",
        "The general syntax of a function is:\n",
        "\n",
        "~~~python\n",
        "def function_name(arg1, arg2, default_arg1=0, default_arg2=None):\n",
        "    '''This is the docstring\n",
        "    \n",
        "    The docstring explains what the function does, so it is like a multiline comment. It does not have to be here,\n",
        "    but it is good practice to use them to document the code. They are especially useful for more complicated\n",
        "    functions, although functions should in general be kept as simple as possible.\n",
        "    Arguments could be explained together with their types (e.g. strings, lists, dicts etc.).\n",
        "    '''\n",
        "    \n",
        "    # Function code goes here\n",
        "    \n",
        "    # Possible 'return' statement terminating the function. If 'return' is not specified, function returns None.\n",
        "    return return_val1, return_val2\n",
        "~~~\n",
        "\n",
        "If multiple values are to be returned, they can be separated by commas as shown. The returned entity will by default be a `tuple`.\n",
        "\n",
        "Note that when using default arguments, it is good practice to only use immutable types. An example further below will demonstrate why this is recommended.\n",
        "\n"
      ]
    },
    {
      "cell_type": "markdown",
      "metadata": {
        "id": "7VrvXgBxwdIp"
      },
      "source": [
        "## Basic functions\n",
        "A simple function with one argument is defined below."
      ]
    },
    {
      "cell_type": "code",
      "execution_count": null,
      "metadata": {
        "id": "BoEFBzyjwdIp"
      },
      "outputs": [],
      "source": [
        "def f(x):\n",
        "    return 1.25 + x + x**2"
      ]
    },
    {
      "cell_type": "code",
      "execution_count": null,
      "metadata": {
        "id": "xpEih-BZwdIq",
        "outputId": "6d4db529-61ec-424c-b6ac-4147451266d5"
      },
      "outputs": [
        {
          "data": {
            "text/plain": [
              "36.25"
            ]
          },
          "execution_count": 3,
          "metadata": {},
          "output_type": "execute_result"
        }
      ],
      "source": [
        "#execute the function\n",
        "f(5)"
      ]
    },
    {
      "cell_type": "markdown",
      "metadata": {
        "id": "uFyGbzZNwdIq"
      },
      "source": [
        "If we define a function without returning anything, it returns `None`:"
      ]
    },
    {
      "cell_type": "code",
      "execution_count": null,
      "metadata": {
        "id": "ZbPwMqOOwdIq",
        "outputId": "3e79fb8f-49f5-4a43-94fd-692dc70409ea"
      },
      "outputs": [
        {
          "name": "stdout",
          "output_type": "stream",
          "text": [
            "None\n"
          ]
        }
      ],
      "source": [
        "def first_char(word):\n",
        "    word[0]    # <--- No return statement, function returns None\n",
        "\n",
        "\n",
        "# Variable a will be equal to None\n",
        "a = first_char('hello')\n",
        "\n",
        "# Printing the returned value\n",
        "print(a)"
      ]
    },
    {
      "cell_type": "markdown",
      "metadata": {
        "id": "4ULSl2_-wdIr"
      },
      "source": [
        "Often a return value is wanted from a function, but there could be scenarios where it is not wanted. E.g. if you want to mutate a list by the function. Consider this example:"
      ]
    },
    {
      "cell_type": "code",
      "execution_count": null,
      "metadata": {
        "id": "ti6PYDTvwdIr",
        "outputId": "4a9f9475-9144-4f2e-cf77-65847d4ba13b"
      },
      "outputs": [
        {
          "name": "stdout",
          "output_type": "stream",
          "text": [
            "Hello Anders\n",
            "Hello Anders\n",
            "None\n"
          ]
        }
      ],
      "source": [
        "def say_hello_to(name):\n",
        "    ''' Say hello to the input name  '''\n",
        "    print(f'Hello {name}')\n",
        "\n",
        "\n",
        "say_hello_to('Anders')      # <--- Calling the function prints 'Hello {name}'\n",
        "\n",
        "r = say_hello_to('Anders')  # <--- Calling the function prints 'Hello {name}' and assigns None to r\n",
        "\n",
        "print(r)                    # <--- Prints None, since function had no return statement"
      ]
    },
    {
      "cell_type": "markdown",
      "metadata": {
        "id": "ghYX7JCkwdIr"
      },
      "source": [
        "The function was still useful even though it did not return anything. Another example could be a function that creates a plot instead of returning a value."
      ]
    },
    {
      "cell_type": "markdown",
      "metadata": {
        "id": "lZV1j48VwdIr"
      },
      "source": [
        "## Examples of built-in functions\n",
        "### Using `enumerate` for looping in index/value pairs\n",
        "The built-in `enumerate` is useful when you want to loop over an iterable together with the index of each of its elements:"
      ]
    },
    {
      "cell_type": "code",
      "execution_count": null,
      "metadata": {
        "id": "JI3bqGxQwdIs",
        "outputId": "91da5b35-e013-4928-9e81-5b74a51c0338"
      },
      "outputs": [
        {
          "name": "stdout",
          "output_type": "stream",
          "text": [
            "0 a\n",
            "1 b\n",
            "2 c\n",
            "3 d\n",
            "4 c\n"
          ]
        }
      ],
      "source": [
        "# Define a list of strings\n",
        "letters = ['a', 'b', 'c', 'd', 'c']\n",
        "\n",
        "# Loop over index and elements in pairs\n",
        "for idx, letter in enumerate(letters):\n",
        "    print(idx, letter)"
      ]
    },
    {
      "cell_type": "code",
      "execution_count": null,
      "metadata": {
        "id": "bQIuTF-LwdIs",
        "outputId": "4d565e1d-9497-47a6-892b-1f694aed2682"
      },
      "outputs": [
        {
          "name": "stdout",
          "output_type": "stream",
          "text": [
            "1 a\n",
            "2 b\n",
            "3 c\n",
            "4 d\n",
            "5 c\n"
          ]
        }
      ],
      "source": [
        "# Starting at 1 (internally, enumerate has start=0 set as default)\n",
        "for idx, letter in enumerate(letters, start=1):\n",
        "    print(idx, letter)"
      ]
    },
    {
      "cell_type": "markdown",
      "metadata": {
        "id": "AUvqm1WMwdIu"
      },
      "source": [
        "`enumerate` solves a commonly encountered scenario, i.e. looping in index/value pairs.\n",
        "\n",
        "Similar functionality could be obtained by looping over the index and indexing the list value inside each loop (**Not recommended**):"
      ]
    },
    {
      "cell_type": "code",
      "execution_count": null,
      "metadata": {
        "id": "VMOL3tIHwdIu",
        "outputId": "a35c2039-f40f-4a46-a0a3-162d28670e2b"
      },
      "outputs": [
        {
          "name": "stdout",
          "output_type": "stream",
          "text": [
            "0 a\n",
            "1 b\n",
            "2 c\n",
            "3 d\n",
            "4 c\n"
          ]
        }
      ],
      "source": [
        "# Loop over index and elements in pairs\n",
        "for i in range(len(letters)):\n",
        "    print(i, letters[i])"
      ]
    },
    {
      "cell_type": "markdown",
      "metadata": {
        "id": "ITVaarFdwdIu"
      },
      "source": [
        "The Pythonic way is to use `enumerate` in this scenario since most people find it more readable.  "
      ]
    },
    {
      "cell_type": "markdown",
      "metadata": {
        "id": "S3aC28QCwdIu"
      },
      "source": [
        "### Using `zip` for looping over multiple iterables\n",
        "The built-in `zip`is useful when you want to put two lists up beside each other and loop over them element by element in pairs."
      ]
    },
    {
      "cell_type": "code",
      "execution_count": null,
      "metadata": {
        "id": "pa-0tsh4wdIu",
        "outputId": "1826c3e2-570c-45b7-e566-0e08dacffc46"
      },
      "outputs": [
        {
          "name": "stdout",
          "output_type": "stream",
          "text": [
            "10 78.5\n",
            "12 113.04\n",
            "16 200.96\n",
            "20 314.0\n",
            "25 490.625\n"
          ]
        }
      ],
      "source": [
        "# Define a list of circle diameters\n",
        "diameters = [10, 12, 16, 20, 25]\n",
        "\n",
        "# Compute circle area by list comprehension\n",
        "areas = [3.14 * (d/2)**2 for d in diameters]\n",
        "\n",
        "# Print (diameter, area) pairs\n",
        "for d, A in zip(diameters, areas):\n",
        "    print(d, A)"
      ]
    },
    {
      "cell_type": "markdown",
      "metadata": {
        "id": "0KOxXeypwdI3"
      },
      "source": [
        "## Local vs. global variables\n",
        "\n",
        "* **Global variables**: Variables defined outside a function\n",
        "* **Local variables**:  Variables defined inside a function\n",
        "\n",
        "Local variables cannot be accessed outside the function. By returning a local variable and saving it into a global variable we can use the result outside the function, in the global namespace."
      ]
    },
    {
      "cell_type": "markdown",
      "metadata": {
        "id": "W9Cn8lkCwdI3"
      },
      "source": [
        "## Imports\n",
        "\n",
        "### Libraries\n",
        "A quick overview of imports of libraries in Python, here shown for the math library:\n",
        "\n",
        "---\n",
        "~~~python\n",
        "import math            # Lets you access everything in the math library by dot-notation (e.g math.pi)  \n",
        "from math import pi    # Lets you use pi directly\n",
        "from math import *     # Lets you use everything in the math library directly\n",
        "~~~\n",
        "The last one is not considered good practice, since variables will be untraceable. It can be good for making quick tests though.\n",
        "\n",
        "### Your own modules\n",
        "You can also import your own `.py` files this way and access the functions inside them. It is easiest if the file to import is located in the same folder as the `.py` file you want to import to.\n",
        "\n",
        "An example:\n",
        "\n",
        "~~~python\n",
        "import my_module      # my_module could be your own python file located in same directory\n",
        "~~~\n",
        "If you have a function inside `my_module` called `my_func`, you can now call it as `my_module.my_func()`.\n",
        "\n",
        "> Python files that are meant to be executed directly are called **scripts** and files that are imported into other files are called **modules**."
      ]
    }
  ],
  "metadata": {
    "hide_input": false,
    "kernelspec": {
      "display_name": "Python 3",
      "language": "python",
      "name": "python3"
    },
    "language_info": {
      "codemirror_mode": {
        "name": "ipython",
        "version": 3
      },
      "file_extension": ".py",
      "mimetype": "text/x-python",
      "name": "python",
      "nbconvert_exporter": "python",
      "pygments_lexer": "ipython3",
      "version": "3.7.5"
    },
    "latex_envs": {
      "LaTeX_envs_menu_present": true,
      "autoclose": false,
      "autocomplete": true,
      "bibliofile": "biblio.bib",
      "cite_by": "apalike",
      "current_citInitial": 1,
      "eqLabelWithNumbers": true,
      "eqNumInitial": 1,
      "hotkeys": {
        "equation": "Ctrl-E",
        "itemize": "Ctrl-I"
      },
      "labels_anchors": false,
      "latex_user_defs": false,
      "report_style_numbering": false,
      "user_envs_cfg": false
    },
    "toc": {
      "base_numbering": 1,
      "nav_menu": {},
      "number_sections": false,
      "sideBar": true,
      "skip_h1_title": false,
      "title_cell": "Table of Contents",
      "title_sidebar": "Contents",
      "toc_cell": false,
      "toc_position": {
        "height": "calc(100% - 180px)",
        "left": "10px",
        "top": "150px",
        "width": "391.997px"
      },
      "toc_section_display": true,
      "toc_window_display": true
    },
    "colab": {
      "provenance": []
    }
  },
  "nbformat": 4,
  "nbformat_minor": 0
}